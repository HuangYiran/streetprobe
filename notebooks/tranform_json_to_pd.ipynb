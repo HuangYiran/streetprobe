{
 "cells": [
  {
   "cell_type": "code",
   "execution_count": 1,
   "metadata": {},
   "outputs": [],
   "source": [
    "import pandas as pd\n",
    "import json"
   ]
  },
  {
   "cell_type": "code",
   "execution_count": 2,
   "metadata": {},
   "outputs": [],
   "source": [
    "js = pd.read_json('vehicle-raw-01.json')"
   ]
  },
  {
   "cell_type": "code",
   "execution_count": null,
   "metadata": {},
   "outputs": [],
   "source": [
    "with open(\"vehicle-raw-01.json\") as f:\n",
    "    load_dict = json.load(f)"
   ]
  },
  {
   "cell_type": "code",
   "execution_count": 99,
   "metadata": {},
   "outputs": [
    {
     "name": "stderr",
     "output_type": "stream",
     "text": [
      "/anaconda3/envs/data_mining/lib/python3.6/site-packages/ipykernel_launcher.py:32: FutureWarning: Sorting because non-concatenation axis is not aligned. A future version\n",
      "of pandas will change to not sort by default.\n",
      "\n",
      "To accept the future behavior, pass 'sort=False'.\n",
      "\n",
      "To retain the current behavior and silence the warning, pass 'sort=True'.\n",
      "\n"
     ]
    }
   ],
   "source": [
    "out = []\n",
    "for li in load_dict:\n",
    "    out.append(load_json_to_pd(li))"
   ]
  },
  {
   "cell_type": "code",
   "execution_count": 100,
   "metadata": {},
   "outputs": [
    {
     "name": "stderr",
     "output_type": "stream",
     "text": [
      "/anaconda3/envs/data_mining/lib/python3.6/site-packages/ipykernel_launcher.py:1: FutureWarning: Sorting because non-concatenation axis is not aligned. A future version\n",
      "of pandas will change to not sort by default.\n",
      "\n",
      "To accept the future behavior, pass 'sort=False'.\n",
      "\n",
      "To retain the current behavior and silence the warning, pass 'sort=True'.\n",
      "\n",
      "  \"\"\"Entry point for launching an IPython kernel.\n"
     ]
    }
   ],
   "source": [
    "df = pd.concat(out, axis = 0)"
   ]
  },
  {
   "cell_type": "code",
   "execution_count": 104,
   "metadata": {},
   "outputs": [],
   "source": [
    "df.to_pickle('df_from_js1.pkl')"
   ]
  },
  {
   "cell_type": "code",
   "execution_count": 82,
   "metadata": {},
   "outputs": [],
   "source": [
    "def load_json_to_pd(li):\n",
    "    \"\"\"\n",
    "    li should be dictionary\n",
    "    output Dataframe with only one record\n",
    "    \"\"\"\n",
    "    assert(type(li) == dict)\n",
    "    dict_out = []\n",
    "    li_name = []\n",
    "    li_value = []\n",
    "    keys = li.keys()\n",
    "    for key in keys:\n",
    "        if type(li[key]) == dict:\n",
    "            dict_out.append(load_json_to_pd(li[key])) # forget father's name\n",
    "        elif type(li[key]) == list:\n",
    "            li_name.append(key)\n",
    "            li_value.append(load_jsonlist_to_pd(li[key]))\n",
    "        else:\n",
    "            li_name.append(key)\n",
    "            li_value.append(li[key])\n",
    "    dict_out.append(pd.DataFrame([li_value], columns = li_name))\n",
    "    return pd.concat(dict_out, axis = 1)\n",
    "\n",
    "def load_jsonlist_to_pd(li):\n",
    "    \"\"\"\n",
    "    li should be list of dict\n",
    "    \"\"\"\n",
    "    assert(type(li) == list)\n",
    "    out = []\n",
    "    for item in li:\n",
    "        tmp = load_json_to_pd(item)\n",
    "        out.append(tmp)\n",
    "    return pd.concat(out, axis = 0).reset_index().iloc[:, 1:]"
   ]
  },
  {
   "cell_type": "code",
   "execution_count": null,
   "metadata": {},
   "outputs": [],
   "source": []
  },
  {
   "cell_type": "markdown",
   "metadata": {},
   "source": [
    "``validate``"
   ]
  },
  {
   "cell_type": "code",
   "execution_count": null,
   "metadata": {},
   "outputs": [],
   "source": []
  }
 ],
 "metadata": {
  "kernelspec": {
   "display_name": "data_mining",
   "language": "python",
   "name": "data_mining"
  },
  "language_info": {
   "codemirror_mode": {
    "name": "ipython",
    "version": 3
   },
   "file_extension": ".py",
   "mimetype": "text/x-python",
   "name": "python",
   "nbconvert_exporter": "python",
   "pygments_lexer": "ipython3",
   "version": "3.6.7"
  }
 },
 "nbformat": 4,
 "nbformat_minor": 2
}
